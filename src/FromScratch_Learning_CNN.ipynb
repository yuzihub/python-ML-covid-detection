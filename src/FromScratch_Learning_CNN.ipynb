{
 "cells": [
  {
   "cell_type": "code",
   "execution_count": 1,
   "id": "41630567",
   "metadata": {},
   "outputs": [],
   "source": [
    "import os\n",
    "from PIL import Image\n",
    "import pandas as pd \n",
    "import numpy as np\n",
    "import matplotlib.pyplot as plt\n",
    "import cv2\n",
    "import keras_tuner\n",
    "from keras_tuner import RandomSearch\n",
    "\n",
    "import tensorflow as tf\n",
    "from tensorflow import keras\n",
    "from tensorflow.keras import layers\n",
    "from tensorflow.keras.models import Sequential\n",
    "from tensorflow.keras.layers import Dense, Conv2D, Flatten, Dropout, MaxPooling2D\n",
    "from tensorflow.keras.preprocessing.image import ImageDataGenerator\n",
    "from tensorflow.keras.callbacks import EarlyStopping\n",
    "import os\n",
    "\n",
    "import sklearn.metrics\n",
    "from sklearn.metrics import confusion_matrix, classification_report"
   ]
  },
  {
   "cell_type": "code",
   "execution_count": 2,
   "id": "1403aa6f",
   "metadata": {},
   "outputs": [
    {
     "name": "stdout",
     "output_type": "stream",
     "text": [
      "Num GPUs Available:  1\n"
     ]
    }
   ],
   "source": [
    "import tensorflow as tf\n",
    "print(\"Num GPUs Available: \", len(tf.config.list_physical_devices('GPU')))"
   ]
  },
  {
   "cell_type": "code",
   "execution_count": 3,
   "id": "1c3d5f73",
   "metadata": {},
   "outputs": [
    {
     "name": "stdout",
     "output_type": "stream",
     "text": [
      "Deleted 0 images\n"
     ]
    }
   ],
   "source": [
    "num_skipped = 0\n",
    "folders = (\"data1/covid\", \"data1/normal\")\n",
    "\n",
    "for folder_name in folders:\n",
    "    folder_path = folder_name\n",
    "    for fname in os.listdir(folder_path):\n",
    "        fpath = \"./\"+folder_path+\"/\"+fname\n",
    "        try:\n",
    "            fobj = Image.open(fpath)\n",
    "            fobj.verify()\n",
    "        except Exception:\n",
    "            num_skipped += 1\n",
    "            # Delete corrupted image\n",
    "            os.remove(fpath)\n",
    "        finally:\n",
    "            fobj.close()\n",
    "\n",
    "\n",
    "print(\"Deleted %d images\" % num_skipped)"
   ]
  },
  {
   "cell_type": "code",
   "execution_count": 4,
   "id": "e367e89d",
   "metadata": {},
   "outputs": [],
   "source": [
    "image_size = (256, 256) #image resize parameter\n",
    "BATCH_SIZE = 32 #parameter for mini-batch learning\n",
    "validation_split = 0.2 #0.1 for validation, 0.1 for test will be used\n",
    "seed = 548 #seed for shuffling and other random operations\n",
    "EPOCHS = 15 #max epochs to train\n",
    "img_height, img_width = image_size[0], image_size[1]\n",
    "#early stopping for training\n",
    "es = EarlyStopping(monitor=\"val_loss\",\n",
    "                   min_delta=0,\n",
    "                   verbose=1,\n",
    "                   mode=\"min\",\n",
    "                   patience=5,\n",
    "                   restore_best_weights=True)   "
   ]
  },
  {
   "cell_type": "code",
   "execution_count": 5,
   "id": "03e541fd",
   "metadata": {},
   "outputs": [
    {
     "name": "stdout",
     "output_type": "stream",
     "text": [
      "Found 2440 images belonging to 2 classes.\n",
      "Found 610 images belonging to 2 classes.\n"
     ]
    }
   ],
   "source": [
    "train_datagen = ImageDataGenerator(\n",
    "    rescale=1./255, #scaling the images\n",
    "    validation_split=0.2 #validation/test split, 0.1 for validation\n",
    "    #0.1 for test\n",
    "    )\n",
    "\n",
    "train_generator = train_datagen.flow_from_directory(\n",
    "    \"data1\", #data directory\n",
    "    target_size=image_size, #image size for resizing\n",
    "    batch_size=99999, #since we are going to unpack the generator\n",
    "    #we want a batch to include all data\n",
    "    shuffle = True, #shuffle the data before using it\n",
    "    seed = seed, #using a set seed for random operations for\n",
    "    #reproducibility\n",
    "    class_mode='binary', #setting for binary classification\n",
    "    color_mode=\"grayscale\", #turn images to grayscale\n",
    "    subset='training')\n",
    "\n",
    "validation_generator = train_datagen.flow_from_directory(\n",
    "    \"data1\", \n",
    "    target_size=image_size,\n",
    "    batch_size=99999,\n",
    "    shuffle = True,\n",
    "    seed = seed,\n",
    "    class_mode='binary',\n",
    "    color_mode=\"grayscale\",\n",
    "    subset='validation')"
   ]
  },
  {
   "cell_type": "code",
   "execution_count": 6,
   "id": "7768007e",
   "metadata": {},
   "outputs": [],
   "source": [
    "#unpack the dataset\n",
    "train_img, train_labels = train_generator.next()\n",
    "validation_img, validation_labels = validation_generator.next()\n"
   ]
  },
  {
   "cell_type": "code",
   "execution_count": 7,
   "id": "e6e21302",
   "metadata": {},
   "outputs": [],
   "source": [
    "#split validation further into 0.1 test and 0.1 validation\n",
    "split_labels = np.array_split(validation_labels, 2)\n",
    "split_img = np.array_split(validation_img, 2)\n",
    "test_labels = split_labels[0]\n",
    "test_img = split_img[0]\n",
    "validation_labels = split_labels[1]\n",
    "validation_img = split_img[1]"
   ]
  },
  {
   "cell_type": "code",
   "execution_count": 8,
   "id": "71f11d88",
   "metadata": {},
   "outputs": [],
   "source": [
    "#the model building function we use for tuning\n",
    "def build_model(hp):\n",
    "    inputs = keras.Input(shape=(img_height, img_width, 1)) #input layer\n",
    "    x = inputs\n",
    "    \n",
    "    #layer number to be used for both convolution and deep layer\n",
    "    layerNum = hp.Choice(\"cnn_layers\", values = [1, 3])\n",
    "    for i in range(layerNum):\n",
    "        x = layers.Conv2D(\n",
    "            hp.Choice(f'conv_filters{i}', values = [16, 32, 64]), #filter size hyperparameter\n",
    "            kernel_size=hp.Choice(f'kernel_size{i}', values = [1, 3]), #kernel size hyperparameter\n",
    "            activation=\"relu\",\n",
    "        )(x)\n",
    "        x = layers.BatchNormalization()(x) #normalize the batch\n",
    "        #It is of debate topic whether to use the batch normalization before or after the activation layer.\n",
    "        #Some suggest that using it before helps, some suggest that it defeats the purpose of normalization\n",
    "        #to use it before the activation layer. We used it after the activation layer.\n",
    "        x = layers.MaxPooling2D()(x) #downsample the data\n",
    "        \n",
    "    x = layers.Flatten()(x) #flatten the output for dense layers\n",
    "\n",
    "    #hyperparamter for whether to use a dropout layer.\n",
    "    dropBool = hp.Boolean(\"dropout\")\n",
    "    for i in range(layerNum):\n",
    "        layers.Dense(units=hp.Choice(f'dense_units{i}', values = [8, 64, 128]), #dense unit size parameter\n",
    "                     activation=\"relu\")(x)\n",
    "        if dropBool:\n",
    "            x = layers.Dropout(0.5)(x)\n",
    "\n",
    "    #the last layer contains 1 unit,\n",
    "    #since we will be doing binary classification.\n",
    "    outputs = layers.Dense(units=1, activation=\"sigmoid\")(x)\n",
    "    model = keras.Model(inputs=inputs, outputs=outputs)\n",
    "\n",
    "    #compile the model.\n",
    "    model.compile(\n",
    "        loss=\"binary_crossentropy\", metrics=[\"accuracy\"], #binary cross entropy is used for the loss function\n",
    "        optimizer=keras.optimizers.SGD(hp.Choice('learning_rate', values=[1e-1, 1e-3])), #learning rate hyperparameter\n",
    "    )\n",
    "    return model"
   ]
  },
  {
   "cell_type": "code",
   "execution_count": 9,
   "id": "a2d6e629",
   "metadata": {},
   "outputs": [
    {
     "name": "stdout",
     "output_type": "stream",
     "text": [
      "Trial 50 Complete [00h 01m 04s]\n",
      "val_accuracy: 0.9147540926933289\n",
      "\n",
      "Best val_accuracy So Far: 0.9377049207687378\n",
      "Total elapsed time: 01h 01m 49s\n",
      "INFO:tensorflow:Oracle triggered exit\n"
     ]
    }
   ],
   "source": [
    "tuner = keras_tuner.RandomSearch(\n",
    "    build_model,\n",
    "    max_trials=50, #maximum trials to randomly search for the hyperparameters\n",
    "    overwrite=True,\n",
    "    objective=\"val_accuracy\", #track validation accuracy to select the best model\n",
    "    # Set a directory to store the intermediate results.\n",
    "    #directory=\"E:/KocUni/Master/Comp 548 Medical Image Analysis/Project/tunerFolder/tb\",\n",
    ")\n",
    "with tf.device('/gpu:0'):\n",
    "    tuner.search(\n",
    "        train_img,\n",
    "        train_labels,\n",
    "        validation_data=(validation_img, validation_labels),\n",
    "        epochs=5, #number of epochs to test the algorithm for\n",
    "        batch_size = BATCH_SIZE,\n",
    "        #use the TensorBoard callback.\n",
    "        #the logs will be write to \"/tmp/tb_logs\".\n",
    "        #callbacks=[keras.callbacks.TensorBoard(\"E:/KocUni/Master/Comp 548 Medical Image Analysis/Project/tunerFolder/tb_logs\")],\n",
    "        callbacks=[es]\n",
    "    )"
   ]
  },
  {
   "cell_type": "code",
   "execution_count": 10,
   "id": "0f554fa4",
   "metadata": {},
   "outputs": [
    {
     "name": "stdout",
     "output_type": "stream",
     "text": [
      "Results summary\n",
      "Results in .\\untitled_project\n",
      "Showing 3 best trials\n",
      "<keras_tuner.engine.objective.Objective object at 0x000001D7FBE9A730>\n",
      "Trial summary\n",
      "Hyperparameters:\n",
      "cnn_layers: 1\n",
      "conv_filters0: 16\n",
      "kernel_size0: 3\n",
      "dropout: False\n",
      "dense_units0: 64\n",
      "learning_rate: 0.001\n",
      "conv_filters1: 16\n",
      "kernel_size1: 1\n",
      "conv_filters2: 64\n",
      "kernel_size2: 1\n",
      "dense_units1: 128\n",
      "dense_units2: 8\n",
      "Score: 0.9377049207687378\n",
      "Trial summary\n",
      "Hyperparameters:\n",
      "cnn_layers: 1\n",
      "conv_filters0: 32\n",
      "kernel_size0: 3\n",
      "dropout: True\n",
      "dense_units0: 8\n",
      "learning_rate: 0.001\n",
      "conv_filters1: 16\n",
      "kernel_size1: 1\n",
      "conv_filters2: 16\n",
      "kernel_size2: 3\n",
      "dense_units1: 64\n",
      "dense_units2: 8\n",
      "Score: 0.9147540926933289\n",
      "Trial summary\n",
      "Hyperparameters:\n",
      "cnn_layers: 3\n",
      "conv_filters0: 16\n",
      "kernel_size0: 1\n",
      "dropout: True\n",
      "dense_units0: 64\n",
      "learning_rate: 0.001\n",
      "conv_filters1: 64\n",
      "kernel_size1: 3\n",
      "conv_filters2: 32\n",
      "kernel_size2: 1\n",
      "dense_units1: 128\n",
      "dense_units2: 64\n",
      "Score: 0.9049180150032043\n"
     ]
    }
   ],
   "source": [
    "tuner.results_summary(num_trials=10) #best 3 models' parameters"
   ]
  },
  {
   "cell_type": "code",
   "execution_count": 11,
   "id": "62e2d944",
   "metadata": {},
   "outputs": [],
   "source": [
    "#build the model with best hyperparameters\n",
    "best_hp = tuner.get_best_hyperparameters()[0]\n",
    "model = tuner.hypermodel.build(best_hp)"
   ]
  },
  {
   "cell_type": "code",
   "execution_count": 12,
   "id": "c20071e7",
   "metadata": {},
   "outputs": [
    {
     "name": "stdout",
     "output_type": "stream",
     "text": [
      "Epoch 1/15\n",
      "77/77 [==============================] - 6s 76ms/step - loss: 0.4870 - accuracy: 0.8201 - val_loss: 0.5629 - val_accuracy: 0.7246\n",
      "Epoch 2/15\n",
      "77/77 [==============================] - 6s 74ms/step - loss: 0.2245 - accuracy: 0.9172 - val_loss: 0.5310 - val_accuracy: 0.7803\n",
      "Epoch 3/15\n",
      "77/77 [==============================] - 6s 74ms/step - loss: 0.1734 - accuracy: 0.9418 - val_loss: 0.4440 - val_accuracy: 0.8918\n",
      "Epoch 4/15\n",
      "77/77 [==============================] - 6s 74ms/step - loss: 0.1353 - accuracy: 0.9594 - val_loss: 0.3541 - val_accuracy: 0.8951\n",
      "Epoch 5/15\n",
      "77/77 [==============================] - 6s 74ms/step - loss: 0.1201 - accuracy: 0.9631 - val_loss: 0.4701 - val_accuracy: 0.7475\n",
      "Epoch 6/15\n",
      "77/77 [==============================] - 6s 74ms/step - loss: 0.1039 - accuracy: 0.9713 - val_loss: 0.2781 - val_accuracy: 0.8852\n",
      "Epoch 7/15\n",
      "77/77 [==============================] - 6s 74ms/step - loss: 0.0870 - accuracy: 0.9795 - val_loss: 0.2682 - val_accuracy: 0.8689\n",
      "Epoch 8/15\n",
      "77/77 [==============================] - 6s 74ms/step - loss: 0.0823 - accuracy: 0.9795 - val_loss: 0.2253 - val_accuracy: 0.8885\n",
      "Epoch 9/15\n",
      "77/77 [==============================] - 6s 74ms/step - loss: 0.0693 - accuracy: 0.9840 - val_loss: 0.1626 - val_accuracy: 0.9377\n",
      "Epoch 10/15\n",
      "77/77 [==============================] - 6s 74ms/step - loss: 0.0640 - accuracy: 0.9869 - val_loss: 0.1424 - val_accuracy: 0.9574\n",
      "Epoch 11/15\n",
      "77/77 [==============================] - 6s 74ms/step - loss: 0.0567 - accuracy: 0.9898 - val_loss: 0.1288 - val_accuracy: 0.9475\n",
      "Epoch 12/15\n",
      "77/77 [==============================] - 6s 74ms/step - loss: 0.0542 - accuracy: 0.9910 - val_loss: 0.1420 - val_accuracy: 0.9410\n",
      "Epoch 13/15\n",
      "77/77 [==============================] - 6s 74ms/step - loss: 0.0492 - accuracy: 0.9910 - val_loss: 0.1737 - val_accuracy: 0.9180\n",
      "Epoch 14/15\n",
      "77/77 [==============================] - 6s 74ms/step - loss: 0.0453 - accuracy: 0.9926 - val_loss: 0.1375 - val_accuracy: 0.9508\n",
      "Epoch 15/15\n",
      "77/77 [==============================] - 6s 74ms/step - loss: 0.0413 - accuracy: 0.9951 - val_loss: 0.1325 - val_accuracy: 0.9475\n"
     ]
    }
   ],
   "source": [
    "with tf.device('/gpu:0'):\n",
    "    #train the model with the best hyperparameters again for a higher number of epochs\n",
    "    hist = model.fit(\n",
    "            train_img,\n",
    "            train_labels,\n",
    "            batch_size = BATCH_SIZE,\n",
    "            validation_data = (validation_img, validation_labels), \n",
    "            shuffle=True,\n",
    "            epochs = EPOCHS,\n",
    "            verbose = 1, \n",
    "            callbacks=[es])"
   ]
  },
  {
   "cell_type": "code",
   "execution_count": 13,
   "id": "add8af9c",
   "metadata": {},
   "outputs": [
    {
     "data": {
      "image/png": "[encoded data removed]",
      "text/plain": [
       "<Figure size 432x288 with 1 Axes>"
      ]
     },
     "metadata": {
      "needs_background": "light"
     },
     "output_type": "display_data"
    },
    {
     "data": {
      "image/png": "[encoded data removed]",
      "text/plain": [
       "<Figure size 432x288 with 1 Axes>"
      ]
     },
     "metadata": {
      "needs_background": "light"
     },
     "output_type": "display_data"
    }
   ],
   "source": [
    "#plot accuracy and loss for training and validation vs. epochs\n",
    "plt.title('Accuracy')\n",
    "plt.plot(hist.history['accuracy'])\n",
    "plt.plot(hist.history['val_accuracy'])\n",
    "plt.ylabel('accuracy')\n",
    "plt.xlabel('epoch')\n",
    "plt.legend(['train', 'validation'], loc='upper left')\n",
    "plt.show()\n",
    "\n",
    "plt.title('Loss')\n",
    "plt.plot(hist.history['loss'])\n",
    "plt.plot(hist.history['val_loss'])\n",
    "plt.ylabel('loss')\n",
    "plt.xlabel('epoch')\n",
    "plt.legend(['train', 'validation'], loc='upper left')\n",
    "plt.show()\n"
   ]
  },
  {
   "cell_type": "code",
   "execution_count": 14,
   "id": "bc09c539",
   "metadata": {},
   "outputs": [
    {
     "name": "stdout",
     "output_type": "stream",
     "text": [
      "10/10 [==============================] - 0s 28ms/step - loss: 0.0916 - accuracy: 0.9639\n",
      "{'loss': 0.09155283123254776, 'accuracy': 0.9639344215393066}\n"
     ]
    }
   ],
   "source": [
    "#evaluate the model on test set set\n",
    "with tf.device('/gpu:0'):\n",
    "    result = model.evaluate(test_img, test_labels)\n",
    "    evalDict = dict(zip(model.metrics_names, result))\n",
    "print(evalDict)"
   ]
  },
  {
   "cell_type": "code",
   "execution_count": 15,
   "id": "ca187c77",
   "metadata": {},
   "outputs": [
    {
     "name": "stdout",
     "output_type": "stream",
     "text": [
      "10/10 [==============================] - 0s 28ms/step\n",
      "              precision    recall  f1-score   support\n",
      "\n",
      "           0       0.97      0.96      0.96       155\n",
      "           1       0.96      0.97      0.96       150\n",
      "\n",
      "    accuracy                           0.96       305\n",
      "   macro avg       0.96      0.96      0.96       305\n",
      "weighted avg       0.96      0.96      0.96       305\n",
      "\n"
     ]
    }
   ],
   "source": [
    "#print the performance report based on classified objects\n",
    "ypred = model.predict(test_img, verbose = 1)\n",
    "pred_labels = ((ypred > 0.50)*1)\n",
    "perf_report = classification_report(pred_labels, test_labels)\n",
    "print(perf_report)"
   ]
  },
  {
   "cell_type": "code",
   "execution_count": null,
   "id": "5c6f1695",
   "metadata": {},
   "outputs": [],
   "source": []
  }
 ],
 "metadata": {
  "kernelspec": {
   "display_name": "Python 3",
   "language": "python",
   "name": "python3"
  },
  "language_info": {
   "codemirror_mode": {
    "name": "ipython",
    "version": 3
   },
   "file_extension": ".py",
   "mimetype": "text/x-python",
   "name": "python",
   "nbconvert_exporter": "python",
   "pygments_lexer": "ipython3",
   "version": "3.8.8"
  }
 },
 "nbformat": 4,
 "nbformat_minor": 5
}
